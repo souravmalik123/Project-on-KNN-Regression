{
 "cells": [
  {
   "cell_type": "code",
   "execution_count": 1,
   "id": "0ffb471d",
   "metadata": {},
   "outputs": [],
   "source": [
    "import pandas as pd\n",
    "from sklearn.model_selection import train_test_split\n",
    "from sklearn.neighbors import KNeighborsRegressor\n",
    "from sklearn.metrics import r2_score\n",
    "import math"
   ]
  },
  {
   "cell_type": "code",
   "execution_count": 2,
   "id": "f838181e",
   "metadata": {},
   "outputs": [],
   "source": [
    "data = pd.read_csv(\"mpg .txt\")"
   ]
  },
  {
   "cell_type": "code",
   "execution_count": 3,
   "id": "8ea240d1",
   "metadata": {},
   "outputs": [
    {
     "name": "stdout",
     "output_type": "stream",
     "text": [
      "    mpg  cylinders  displacement  horsepower  weight  acceleration  \\\n",
      "0  18.0          8         307.0       130.0    3504          12.0   \n",
      "1  15.0          8         350.0       165.0    3693          11.5   \n",
      "\n",
      "   model_year origin                       name  \n",
      "0          70    usa  chevrolet chevelle malibu  \n",
      "1          70    usa          buick skylark 320  \n"
     ]
    }
   ],
   "source": [
    "print(data.head(2))"
   ]
  },
  {
   "cell_type": "code",
   "execution_count": 44,
   "id": "a21ffbbf",
   "metadata": {},
   "outputs": [],
   "source": [
    "##### spliting the data into x and y\n",
    "x =  data[[\"weight\",\"acceleration\"]]\n",
    "y =  data[\"mpg\"]"
   ]
  },
  {
   "cell_type": "code",
   "execution_count": 45,
   "id": "1dd59bc1",
   "metadata": {},
   "outputs": [],
   "source": [
    "##### spliting the data into train test split\n",
    "x_train,x_test,y_train,y_test = train_test_split(x,y,test_size=0.2,random_state =123)\n"
   ]
  },
  {
   "cell_type": "code",
   "execution_count": 46,
   "id": "d29c385a",
   "metadata": {},
   "outputs": [
    {
     "name": "stdout",
     "output_type": "stream",
     "text": [
      "(398, 2)\n",
      "(398,)\n"
     ]
    }
   ],
   "source": [
    "print(x.shape)\n",
    "print(y.shape)"
   ]
  },
  {
   "cell_type": "code",
   "execution_count": 47,
   "id": "487baa7f",
   "metadata": {},
   "outputs": [
    {
     "name": "stdout",
     "output_type": "stream",
     "text": [
      " Model is loaded\n"
     ]
    }
   ],
   "source": [
    "model = KNeighborsRegressor()\n",
    "print(\" Model is loaded\")"
   ]
  },
  {
   "cell_type": "code",
   "execution_count": 48,
   "id": "ae8ecb63",
   "metadata": {},
   "outputs": [
    {
     "name": "stdout",
     "output_type": "stream",
     "text": [
      "Model is fitted or learn\n"
     ]
    }
   ],
   "source": [
    "model_fitting = model.fit(x_train,y_train)\n",
    "print(\"Model is fitted or learn\")"
   ]
  },
  {
   "cell_type": "code",
   "execution_count": 49,
   "id": "5edb46b0",
   "metadata": {},
   "outputs": [
    {
     "name": "stdout",
     "output_type": "stream",
     "text": [
      "0.78\n"
     ]
    }
   ],
   "source": [
    "##### chicking the accuracy of training data\n",
    "acc_train = round(model_fitting.score(x_train,y_train),2)\n",
    "print(acc_train)"
   ]
  },
  {
   "cell_type": "code",
   "execution_count": 50,
   "id": "efb4f01e",
   "metadata": {},
   "outputs": [
    {
     "name": "stdout",
     "output_type": "stream",
     "text": [
      "[25.8  12.   24.12 29.7  29.7  19.58 33.42 19.92 32.62 14.2  25.78 27.\n",
      " 22.06 27.24 15.92 20.82 16.5  20.44 14.5  15.74 34.44 17.1  32.16 33.02\n",
      " 21.62 21.24 18.56 24.66 29.7  26.14 25.76 24.14 23.08 15.1  22.5  29.\n",
      " 25.28 36.46 15.1  29.7  20.82 32.78 30.1  32.04 34.9  17.8  12.8  26.72\n",
      " 25.46 35.04 14.28 31.08 26.04 21.18 29.48 26.44 20.3  25.2  15.1  24.66\n",
      " 25.18 27.48 29.24 35.26 27.48 21.18 18.88 32.52 18.62 28.98 17.3  17.\n",
      " 26.04 33.14 16.44 30.1  15.92 17.   17.16 20.24]\n"
     ]
    }
   ],
   "source": [
    "#### predict the testing data\n",
    "pred = model_fitting.predict(x_test)\n",
    "print(pred)"
   ]
  },
  {
   "cell_type": "code",
   "execution_count": 51,
   "id": "df1511fa",
   "metadata": {},
   "outputs": [
    {
     "name": "stdout",
     "output_type": "stream",
     "text": [
      "0.6750396052505248\n"
     ]
    }
   ],
   "source": [
    "###### checking the accuracy of testing data\n",
    "acc_test = r2_score(y_test,pred)\n",
    "print(acc_test)"
   ]
  },
  {
   "cell_type": "code",
   "execution_count": 52,
   "id": "e541c2a8",
   "metadata": {},
   "outputs": [],
   "source": [
    "###### How to choose the value of k\n",
    "### 1. sqrt(n)\n",
    "### 2. error method"
   ]
  },
  {
   "cell_type": "code",
   "execution_count": 53,
   "id": "a764b7bb",
   "metadata": {},
   "outputs": [
    {
     "data": {
      "text/plain": [
       "17.832554500127006"
      ]
     },
     "execution_count": 53,
     "metadata": {},
     "output_type": "execute_result"
    }
   ],
   "source": [
    "math.sqrt(318) ## k =17"
   ]
  },
  {
   "cell_type": "code",
   "execution_count": 60,
   "id": "8e924df9",
   "metadata": {},
   "outputs": [],
   "source": [
    "#### error method - k =(1,21,2)\n",
    "error = []\n",
    "k = []\n",
    "for i in range(1,21,2):\n",
    "    model = KNeighborsRegressor(n_neighbors=i)\n",
    "    model_fitting = model.fit(x_train,y_train)\n",
    "    err =1- acc_train\n",
    "    error.append(err)\n",
    "    k.append(i)"
   ]
  },
  {
   "cell_type": "code",
   "execution_count": 62,
   "id": "d36e032c",
   "metadata": {},
   "outputs": [
    {
     "ename": "TypeError",
     "evalue": "'dict' object is not callable",
     "output_type": "error",
     "traceback": [
      "\u001b[1;31m---------------------------------------------------------------------------\u001b[0m",
      "\u001b[1;31mTypeError\u001b[0m                                 Traceback (most recent call last)",
      "Cell \u001b[1;32mIn[62], line 1\u001b[0m\n\u001b[1;32m----> 1\u001b[0m pd\u001b[38;5;241m.\u001b[39mDataFrame({\u001b[38;5;124m\"\u001b[39m\u001b[38;5;124mk\u001b[39m\u001b[38;5;124m\"\u001b[39m:i,\u001b[38;5;124m\"\u001b[39m\u001b[38;5;124merror\u001b[39m\u001b[38;5;124m\"\u001b[39m:err})\n",
      "\u001b[1;31mTypeError\u001b[0m: 'dict' object is not callable"
     ]
    }
   ],
   "source": [
    "pd.DataFrame({\"k\":i,\"error\":err})"
   ]
  },
  {
   "cell_type": "code",
   "execution_count": 63,
   "id": "7ddcb62c",
   "metadata": {},
   "outputs": [
    {
     "data": {
      "text/plain": [
       "(318, 2)"
      ]
     },
     "execution_count": 63,
     "metadata": {},
     "output_type": "execute_result"
    }
   ],
   "source": [
    "x_train.shape"
   ]
  },
  {
   "cell_type": "code",
   "execution_count": 64,
   "id": "b2025a56",
   "metadata": {},
   "outputs": [
    {
     "data": {
      "text/plain": [
       "(318,)"
      ]
     },
     "execution_count": 64,
     "metadata": {},
     "output_type": "execute_result"
    }
   ],
   "source": [
    "y_train.shape"
   ]
  },
  {
   "cell_type": "code",
   "execution_count": 65,
   "id": "1e7c7123",
   "metadata": {},
   "outputs": [
    {
     "ename": "TypeError",
     "evalue": "'dict' object is not callable",
     "output_type": "error",
     "traceback": [
      "\u001b[1;31m---------------------------------------------------------------------------\u001b[0m",
      "\u001b[1;31mTypeError\u001b[0m                                 Traceback (most recent call last)",
      "Cell \u001b[1;32mIn[65], line 1\u001b[0m\n\u001b[1;32m----> 1\u001b[0m pd\u001b[38;5;241m.\u001b[39mDataFrame({\u001b[38;5;124m\"\u001b[39m\u001b[38;5;124mk\u001b[39m\u001b[38;5;124m\"\u001b[39m:k,\u001b[38;5;124m\"\u001b[39m\u001b[38;5;124merror\u001b[39m\u001b[38;5;124m\"\u001b[39m:error})\n",
      "\u001b[1;31mTypeError\u001b[0m: 'dict' object is not callable"
     ]
    }
   ],
   "source": [
    "pd.DataFrame({\"k\":k,\"error\":error})"
   ]
  },
  {
   "cell_type": "code",
   "execution_count": null,
   "id": "179a0ef0",
   "metadata": {},
   "outputs": [],
   "source": []
  }
 ],
 "metadata": {
  "kernelspec": {
   "display_name": "Python 3 (ipykernel)",
   "language": "python",
   "name": "python3"
  },
  "language_info": {
   "codemirror_mode": {
    "name": "ipython",
    "version": 3
   },
   "file_extension": ".py",
   "mimetype": "text/x-python",
   "name": "python",
   "nbconvert_exporter": "python",
   "pygments_lexer": "ipython3",
   "version": "3.11.4"
  }
 },
 "nbformat": 4,
 "nbformat_minor": 5
}
